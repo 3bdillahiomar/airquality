{
 "cells": [
  {
   "cell_type": "markdown",
   "id": "bbd950ca-cc0e-461e-8604-3eac810b918c",
   "metadata": {},
   "source": [
    "## Data Harvesting"
   ]
  },
  {
   "cell_type": "markdown",
   "id": "83ba04d6-f255-42a9-944a-8a9e5ff72034",
   "metadata": {},
   "source": [
    "## Retrieve Samenmeten sensor locations "
   ]
  },
  {
   "cell_type": "code",
   "execution_count": 1,
   "id": "ec79ecfe-d934-40f2-b587-26c71a489d29",
   "metadata": {},
   "outputs": [
    {
     "name": "stdout",
     "output_type": "stream",
     "text": [
      "@iot.id: 921, name: LTD_4969, description: LTD_4969, location: (4.968, 52.304)\n",
      "@iot.id: 2777, name: LTD_32517, description: LTD_32517, location: (4.965, 52.373)\n",
      "@iot.id: 2215, name: LTD_23231, description: LTD_23231, location: (4.926, 52.358)\n",
      "@iot.id: 720, name: LTD_8802, description: LTD_8802, location: (4.92, 52.402)\n",
      "@iot.id: 2768, name: LTD_32999, description: LTD_32999, location: (4.89, 52.412)\n",
      "@iot.id: 5964, name: LTD_55037, description: LTD_55037, location: (4.992, 52.354)\n"
     ]
    }
   ],
   "source": [
    "import requests\n",
    "\n",
    "# List of LTD coulumn values\n",
    "ltd_values = ['LTD_4969', 'LTD_32517', 'LTD_23231', 'LTD_8802', 'LTD_32999', 'LTD_55037']\n",
    "\n",
    "headers = {\"Content-Type\": \"application/json\"}\n",
    "\n",
    "def get_coordinates(thing):\n",
    "    locations_link = thing.get('Locations@iot.navigationLink')\n",
    "\n",
    "    if locations_link:\n",
    "        location_response = requests.get(locations_link, headers=headers)\n",
    "        if location_response.status_code == 200:\n",
    "            location_data = location_response.json()\n",
    "            coordinates = location_data.get('value', [{}])[0].get('location', {}).get('coordinates', [])\n",
    "            lng, lat = coordinates if len(coordinates) == 2 else (None, None)\n",
    "        else:\n",
    "            lng, lat = None, None\n",
    "    else:\n",
    "        lng, lat = None, None\n",
    "\n",
    "    return lng, lat\n",
    "\n",
    "for ltd_value in ltd_values:\n",
    "    url = f\"https://api-samenmeten.rivm.nl/v1.0/Things?$filter=name eq '{ltd_value}'\"\n",
    "    response = requests.get(url, headers=headers)\n",
    "\n",
    "    if response.status_code == 200:\n",
    "        data = response.json()\n",
    "        # Check if the 'value' key is present in the response\n",
    "        if 'value' in data:\n",
    "            things = data['value']\n",
    "            for thing in things:\n",
    "                thing_id = thing.get('@iot.id')\n",
    "                name = thing.get('name')\n",
    "                description = thing.get('description')\n",
    "                lng, lat = get_coordinates(thing)\n",
    "\n",
    "                # Print the desired information\n",
    "                print(f\"@iot.id: {thing_id}, name: {name}, description: {description}, location: ({lng}, {lat})\")\n",
    "\n",
    "        else:\n",
    "            print(f\"No 'value' key in the response for {ltd_value}.\")\n",
    "\n",
    "    else:\n",
    "        print(f\"Error for {ltd_value}: {response.status_code}\")\n"
   ]
  },
  {
   "cell_type": "raw",
   "id": "1a293091-cd58-4ff6-8d64-06501bf837b6",
   "metadata": {},
   "source": [
    "For deep explanation of the script, I explain in the coming cell"
   ]
  },
  {
   "cell_type": "code",
   "execution_count": 33,
   "id": "57030305-dbfc-4401-8a5f-dfc2f0f57f38",
   "metadata": {},
   "outputs": [
    {
     "name": "stdout",
     "output_type": "stream",
     "text": [
      "Data written to samenmeten_locations.csv\n"
     ]
    }
   ],
   "source": [
    "import requests\n",
    "import csv\n",
    "\n",
    "# List of LTD values\n",
    "ltd_values = ['LTD_4969', 'LTD_32517', 'LTD_23231', 'LTD_8802', 'LTD_32999', 'LTD_55037']\n",
    "headers = {\"Content-Type\": \"application/json\"}\n",
    "output_path = \"samenmeten_locations.csv\"\n",
    "\n",
    "def get_coordinates(thing):\n",
    "    # Step 1: Extract coordinates from the location link\n",
    "    locations_link = thing.get('Locations@iot.navigationLink')\n",
    "    if not locations_link:\n",
    "        return None, None\n",
    "\n",
    "    location_response = requests.get(locations_link, headers=headers)\n",
    "    if location_response.status_code != 200:\n",
    "        return None, None\n",
    "\n",
    "    location_data = location_response.json()\n",
    "    coordinates = location_data.get('value', [{}])[0].get('location', {}).get('coordinates', [])\n",
    "    return coordinates if len(coordinates) == 2 else (None, None)\n",
    "\n",
    "# Step 2: Open a CSV file for writing\n",
    "with open(output_path, \"w\", newline='') as csvfile:\n",
    "    # Step 3: Define field names for CSV\n",
    "    fieldnames = ['sensor_id', 'name', 'description', 'longitude', 'latitude']\n",
    "    writer = csv.DictWriter(csvfile, fieldnames=fieldnames)\n",
    "    \n",
    "    # Step 4: Write CSV header\n",
    "    writer.writeheader()\n",
    "\n",
    "    # Step 5: Loop through each LTD value\n",
    "    for ltd_value in ltd_values:\n",
    "        # Step 6: Make API request for each LTD value\n",
    "        url = f\"https://api-samenmeten.rivm.nl/v1.0/Things?$filter=name eq '{ltd_value}'\"\n",
    "        response = requests.get(url, headers=headers)\n",
    "\n",
    "        # Step 7: Check response status\n",
    "        if response.status_code == 200 and 'value' in (data := response.json()):\n",
    "            # Step 8: Loop through sensor data\n",
    "            for thing in data['value']:\n",
    "                sensor_id, name, description = thing.get('@iot.id'), thing.get('name'), thing.get('description')\n",
    "                lng, lat = get_coordinates(thing)\n",
    "                \n",
    "                # Step 9: Write sensor data to CSV\n",
    "                writer.writerow({'sensor_id': sensor_id, 'name': name, 'description': description, 'longitude': lng, 'latitude': lat})\n",
    "        else:\n",
    "            # Step 10: Print error message if there's an issue with the API request\n",
    "            print(f\"Error for {ltd_value}: {response.status_code}\")\n",
    "\n",
    "# Step 11: Print a message indicating that data has been written to the CSV file\n",
    "print(f\"Data written to {output_path}\")"
   ]
  },
  {
   "cell_type": "code",
   "execution_count": null,
   "id": "3b35be06-0419-415d-8f2b-ccd650f1b1c5",
   "metadata": {},
   "outputs": [],
   "source": []
  }
 ],
 "metadata": {
  "kernelspec": {
   "display_name": "Python 3 (ipykernel)",
   "language": "python",
   "name": "python3"
  },
  "language_info": {
   "codemirror_mode": {
    "name": "ipython",
    "version": 3
   },
   "file_extension": ".py",
   "mimetype": "text/x-python",
   "name": "python",
   "nbconvert_exporter": "python",
   "pygments_lexer": "ipython3",
   "version": "3.11.5"
  }
 },
 "nbformat": 4,
 "nbformat_minor": 5
}
